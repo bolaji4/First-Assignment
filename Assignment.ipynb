{
 "cells": [
  {
   "cell_type": "code",
   "execution_count": 42,
   "id": "4e8198a7-2d48-487e-8562-e0a797920838",
   "metadata": {},
   "outputs": [
    {
     "name": "stdout",
     "output_type": "stream",
     "text": [
      "Olaniran Bolaji\n",
      "35\n"
     ]
    }
   ],
   "source": [
    "# Q1\n",
    "full_name = ('Olaniran Bolaji')\n",
    "age = 35\n",
    "#another = (full_name [:])\n",
    "print(full_name)\n",
    "\n",
    "\n",
    "\n",
    "print(age)"
   ]
  },
  {
   "cell_type": "code",
   "execution_count": null,
   "id": "01ef2f93-a172-44a9-809b-f8930e48fc84",
   "metadata": {},
   "outputs": [],
   "source": []
  },
  {
   "cell_type": "code",
   "execution_count": 85,
   "id": "d3da0aa0-f141-4ec8-b3bf-1f2d51c3602a",
   "metadata": {},
   "outputs": [
    {
     "name": "stdin",
     "output_type": "stream",
     "text": [
      "What is your name: Olaniran bolaji\n",
      "age: 36\n"
     ]
    },
    {
     "name": "stdout",
     "output_type": "stream",
     "text": [
      "Olaniran bolaji : 36\n"
     ]
    }
   ],
   "source": [
    "# Q1\n",
    "name = input('What is your name:')\n",
    "\n",
    "age = input('age:')\n",
    "\n",
    "print(name + ' : ' + age)"
   ]
  },
  {
   "cell_type": "code",
   "execution_count": 86,
   "id": "e940b351-47b6-44ee-b780-a6fef31c318d",
   "metadata": {},
   "outputs": [],
   "source": [
    "#Q2\n",
    "def addNos(no1, no2):\n",
    "    result = no1 + no2\n",
    "    return result"
   ]
  },
  {
   "cell_type": "code",
   "execution_count": 87,
   "id": "f1ff1a7f-017a-457f-886d-e60a6412cf7b",
   "metadata": {},
   "outputs": [
    {
     "data": {
      "text/plain": [
       "55"
      ]
     },
     "execution_count": 87,
     "metadata": {},
     "output_type": "execute_result"
    }
   ],
   "source": [
    "addNos(10, 45)"
   ]
  },
  {
   "cell_type": "code",
   "execution_count": 108,
   "id": "7ff269af-44e0-4275-b130-973bcb91de18",
   "metadata": {},
   "outputs": [
    {
     "name": "stdout",
     "output_type": "stream",
     "text": [
      "Addition : 52\n"
     ]
    }
   ],
   "source": [
    "#Q3\n",
    "def calculator(a, b):\n",
    "    add = a + b\n",
    "    return add\n",
    "result = calculator(40, 12)\n",
    "\n",
    "print(\"Addition :\", result)"
   ]
  },
  {
   "cell_type": "code",
   "execution_count": 119,
   "id": "f99f6a89-0c4a-4e83-b7c8-f0c16a912a06",
   "metadata": {},
   "outputs": [
    {
     "name": "stdout",
     "output_type": "stream",
     "text": [
      "Subtraction : 28\n"
     ]
    }
   ],
   "source": [
    "#Q3\n",
    "def calculator(a, b):\n",
    "    subtraction = a - b\n",
    "    return subtraction\n",
    "result = calculator(40,12)\n",
    "\n",
    "print(\"Subtraction :\", result)"
   ]
  },
  {
   "cell_type": "code",
   "execution_count": 59,
   "id": "de0b66a3-2944-4231-b2fb-843a2dda85b5",
   "metadata": {},
   "outputs": [
    {
     "name": "stdout",
     "output_type": "stream",
     "text": [
      "Olaniran Bolaji N150,000\n"
     ]
    }
   ],
   "source": [
    "#Q4\n",
    "\n",
    "def showempl(name, value):\n",
    "    #name = input('Olaniran Bolaji')\n",
    "    #salary = input(150)\n",
    "    \n",
    "    return showempl\n",
    "print('Olaniran Bolaji' + \" \" + 'N150,000')\n"
   ]
  },
  {
   "cell_type": "code",
   "execution_count": 7,
   "id": "37eaeb0d-b190-4134-93f6-b8c43d24470a",
   "metadata": {},
   "outputs": [
    {
     "name": "stdout",
     "output_type": "stream",
     "text": [
      "The recursum of 10 is 100\n"
     ]
    }
   ],
   "source": [
    "#Q5\n",
    "def recursum(x):\n",
    "\n",
    "    if x == 0:\n",
    "        return 10\n",
    "    else:\n",
    "        return (x * recursum(x-10))\n",
    "\n",
    "\n",
    "num = 10\n",
    "print(\"The recursum of\", num, \"is\", recursum(num))"
   ]
  },
  {
   "cell_type": "code",
   "execution_count": null,
   "id": "8220a7bd-9efc-4157-be16-1b235a0e5beb",
   "metadata": {},
   "outputs": [],
   "source": [
    "#Q6\n",
    "\n"
   ]
  },
  {
   "cell_type": "code",
   "execution_count": 16,
   "id": "46881f25-7094-48fd-818a-3b85dce784e4",
   "metadata": {},
   "outputs": [
    {
     "name": "stdout",
     "output_type": "stream",
     "text": [
      "10 18 4 42 66 "
     ]
    }
   ],
   "source": [
    "#Q8\n",
    "\n",
    "# and even numbers are number that 2 can divide\n",
    "list1 = [10, 13, 18, 31, 21, 4, 45, 42, 66, 93] \n",
    " \n",
    "for num in list1:\n",
    " \n",
    "    if num % 2 == 0:\n",
    "        print(num, end=\" \")"
   ]
  },
  {
   "cell_type": "code",
   "execution_count": 31,
   "id": "da99099f-bd79-4bbc-bf85-1a9eb6f9ec6c",
   "metadata": {},
   "outputs": [
    {
     "name": "stdout",
     "output_type": "stream",
     "text": [
      "Sunday\n"
     ]
    }
   ],
   "source": [
    "#Q9\n",
    "\n",
    "import datetime\n",
    "import calendar\n",
    " \n",
    "def findDay(date):\n",
    "    born = datetime.datetime.strptime(date, '%Y %m %d').weekday()\n",
    "    return (calendar.day_name[born])\n",
    " \n",
    "date = '2022 5 1'\n",
    "print(findDay(date))"
   ]
  },
  {
   "cell_type": "code",
   "execution_count": 58,
   "id": "951f177d-deea-45cc-b468-ab3694868300",
   "metadata": {},
   "outputs": [
    {
     "name": "stdout",
     "output_type": "stream",
     "text": [
      "16 days\n"
     ]
    }
   ],
   "source": [
    "#Q10\n",
    "from datetime import date\n",
    "f_date = date(2022, 5, 10)\n",
    "l_date = date(2022, 5, 26)\n",
    "delta = l_date - f_date\n",
    "print(f'{delta.days} days' )"
   ]
  },
  {
   "cell_type": "code",
   "execution_count": 57,
   "id": "3a6743fd-566f-46e5-8070-432b478bfa37",
   "metadata": {},
   "outputs": [
    {
     "name": "stdout",
     "output_type": "stream",
     "text": [
      "16 days\n"
     ]
    }
   ],
   "source": [
    "\n",
    "#Q10\n",
    "date1 = date(2022, 5, 10)\n",
    "date2 = date(2022, 5, 26)\n",
    "d = date2-date1\n",
    "print(f'{d.days} days')"
   ]
  },
  {
   "cell_type": "code",
   "execution_count": null,
   "id": "e259e203-9933-468e-9155-0ad147c45681",
   "metadata": {},
   "outputs": [],
   "source": []
  }
 ],
 "metadata": {
  "kernelspec": {
   "display_name": "Python 3 (ipykernel)",
   "language": "python",
   "name": "python3"
  },
  "language_info": {
   "codemirror_mode": {
    "name": "ipython",
    "version": 3
   },
   "file_extension": ".py",
   "mimetype": "text/x-python",
   "name": "python",
   "nbconvert_exporter": "python",
   "pygments_lexer": "ipython3",
   "version": "3.9.7"
  }
 },
 "nbformat": 4,
 "nbformat_minor": 5
}
